{
 "cells": [
  {
   "cell_type": "markdown",
   "id": "434d20cc-134d-4ef0-91a7-0086f3959e7b",
   "metadata": {},
   "source": [
    ">># Theory Questions:"
   ]
  },
  {
   "cell_type": "markdown",
   "id": "d52f06a2-90a4-437f-8eb8-0335a3d6da77",
   "metadata": {},
   "source": [
    "##### 1. What is the difference between a function and a method in Python?\n",
    "     Function is a set of instruction that perform a task. it is independent (not tied to any object or class).We can use it anywhere in our code. \n",
    "     \n",
    "    - A method is also a function, but it's part of a class.It works with objects like a behavior or action that an object can do.we need to create an object to use its method.\n",
    "\n",
    "\n",
    "     \n"
   ]
  },
  {
   "cell_type": "code",
   "execution_count": 13,
   "id": "bf13ea8f-11b6-410d-95c5-815ab054f032",
   "metadata": {},
   "outputs": [
    {
     "name": "stdout",
     "output_type": "stream",
     "text": [
      "Hello World!\n"
     ]
    }
   ],
   "source": [
    "# Example for function  \n",
    "def hello(name):\n",
    "     print(\"Hello World!\")\n",
    "hello(\"name\")\n"
   ]
  },
  {
   "cell_type": "markdown",
   "id": "07e5348f-ab34-411d-b362-b552b7a5fec1",
   "metadata": {},
   "source": [
    "##### 2. Explain the concept of function arguments and parameters in Python.\n",
    "        function arguments means the actual value passed to the function when its called is know as arguments. \n",
    "\n",
    "        parameters means a variable lisited inside the round barcket() in the function definition is called parameters.\n",
    "        Example : "
   ]
  },
  {
   "cell_type": "code",
   "execution_count": 15,
   "id": "f0dda16b-762b-4724-a6fb-49091460ed31",
   "metadata": {},
   "outputs": [
    {
     "name": "stdout",
     "output_type": "stream",
     "text": [
      "Hello,Sanjay!\n"
     ]
    }
   ],
   "source": [
    "def greet(name):  # name, is a parameter\n",
    "    print(f\"Hello,{name}!\")\n",
    "\n",
    "greet(\"Sanjay\")    # Sanjay, is an argument"
   ]
  },
  {
   "cell_type": "markdown",
   "id": "80759bde-6b54-42c2-bcdc-dc39af22594d",
   "metadata": {},
   "source": [
    "####  3. What are the different ways to define and call a function in Python?\n",
    "Ways to define in function are :\n",
    "- Standard Function using \"def \" keyword \n",
    "- function with parameters \n",
    "- function with default parameters (no arguments are passed )\n",
    "- function with return value \n",
    "- Lambda function (Anonoymous function )\n",
    "- function with different variable length arguments (*args)\n",
    "- Nested function \n",
    "###### Ways to call a function are:\n",
    "- direct call \n",
    "- call with Arguments \n",
    "- keyword Arguments \n",
    "- calling lambda function \n",
    "                    "
   ]
  },
  {
   "cell_type": "code",
   "execution_count": 19,
   "id": "770208b9-de07-47d4-abea-e89d457b29ae",
   "metadata": {},
   "outputs": [
    {
     "name": "stdout",
     "output_type": "stream",
     "text": [
      "Welcome to Python!\n",
      "Hello, Sanjay!\n",
      "Hello, Guest!\n",
      "Hello, Kumar!\n",
      "Sum: 30\n",
      "Profile Info:\n",
      "name: Sanjay\n",
      "course: MCA\n",
      "year: 2025\n",
      "Square of 5: 25\n"
     ]
    }
   ],
   "source": [
    "# this example shows all type of define and calling \n",
    "# 1. Standard function\n",
    "def welcome():\n",
    "    print(\"Welcome to Python!\")\n",
    "    \n",
    "# 2. Function with parameters\n",
    "def greet(name):\n",
    "    print(f\"Hello, {name}!\")\n",
    "\n",
    "# 3. Function with default argument\n",
    "def greet_default(name=\"Guest\"):\n",
    "    print(f\"Hello, {name}!\")\n",
    "\n",
    "# 4. Function with return value\n",
    "def add(a, b):\n",
    "    return a + b\n",
    "\n",
    "# 5. Function with variable-length arguments\n",
    "def show_languages(*args):\n",
    "    print(\"Languages you know:\")\n",
    "    for lang in args:\n",
    "        print(\"-\", lang)\n",
    "\n",
    "# 6. Lambda function\n",
    "square = lambda x: x * x\n",
    "\n",
    "# 7. Nested function\n",
    "def outer():\n",
    "    print(\"Inside outer function\")\n",
    "    def inner():\n",
    "        print(\"Inside inner function\")\n",
    "    inner()\n",
    "\n",
    "# Function Calls\n",
    "welcome()\n",
    "greet(\"Sanjay\")\n",
    "greet_default()\n",
    "greet_default(\"Kumar\")\n",
    "print(\"Sum:\", add(10, 20))\n",
    "show_profile(name=\"Sanjay\", course=\"MCA\", year=2025)\n",
    "print(\"Square of 5:\", square(5))"
   ]
  },
  {
   "cell_type": "markdown",
   "id": "70b6f50f-7ef4-473e-a6d4-c1a74143c436",
   "metadata": {},
   "source": [
    "#####  4. What is the purpose of the `return` statement in a Python function?\n",
    "Send output from a function \" its allows a function to produce a result that can be stored, printed or used in further calculation\".\n",
    "used for \"End  function execution \"\n",
    "Return multiple values "
   ]
  },
  {
   "cell_type": "code",
   "execution_count": 20,
   "id": "d8216b60-bf57-45ca-bbf6-0b64c23c3c91",
   "metadata": {},
   "outputs": [
    {
     "name": "stdout",
     "output_type": "stream",
     "text": [
      "8\n"
     ]
    }
   ],
   "source": [
    "def add(a, b):\n",
    "    return a + b\n",
    "result = add(5, 3)\n",
    "print(result)  "
   ]
  },
  {
   "cell_type": "markdown",
   "id": "756f6956-0465-42aa-84fd-5c78fdc0a383",
   "metadata": {},
   "source": [
    "##### 5. What are iterators in Python and how do they differ from iterables?\n",
    " An iterable is any Python object that can be looped over (used in a for loop). It implements the iter() method and returns an iterator.\n",
    "        EX:- Lists , Tuples, Strings , Sets .\n",
    "\n",
    "        \n",
    "An iterator is an object that represents a stream of data. It implements two methods:\n",
    "      iter__() → returns the iterator itself\n",
    "      next__() → returns the next item in the sequence.\n",
    "\n"
   ]
  },
  {
   "cell_type": "code",
   "execution_count": 21,
   "id": "b9360777-555c-4d58-91f4-586dd7c7671f",
   "metadata": {},
   "outputs": [
    {
     "name": "stdout",
     "output_type": "stream",
     "text": [
      "1\n",
      "2\n",
      "3\n"
     ]
    }
   ],
   "source": [
    "my_list = [1, 2, 3]\n",
    "for item in my_list:  # my_list is iterable\n",
    "    print(item)"
   ]
  },
  {
   "cell_type": "code",
   "execution_count": 22,
   "id": "3b03d491-a5f9-41b0-ad24-0f5740e7d068",
   "metadata": {},
   "outputs": [
    {
     "name": "stdout",
     "output_type": "stream",
     "text": [
      "1\n",
      "2\n",
      "3\n"
     ]
    }
   ],
   "source": [
    "my_list = [1, 2, 3]\n",
    "it = iter(my_list)  # it is an iterator\n",
    "\n",
    "print(next(it)) \n",
    "print(next(it)) \n",
    "print(next(it))"
   ]
  },
  {
   "cell_type": "markdown",
   "id": "5df0b1d4-ef30-4913-a0df-e565c4942c87",
   "metadata": {},
   "source": [
    "####  6. Explain the concept of generators in Python and how they are defined.\n",
    "A generator is a special type of function that:\n",
    "- Returns an iterator object\n",
    "- Produces values one at a time using the yield keyword\n",
    "- Pauses after each yield and resumes from where it left off\n",
    "This makes generators memory-efficient, especially useful for large datasets or infinite sequences.\n"
   ]
  },
  {
   "cell_type": "code",
   "execution_count": 24,
   "id": "2c588d19-68e7-4738-a695-be794d8274b3",
   "metadata": {},
   "outputs": [
    {
     "name": "stdout",
     "output_type": "stream",
     "text": [
      "1\n",
      "2\n",
      "3\n",
      "4\n",
      "5\n"
     ]
    }
   ],
   "source": [
    "def count_up_to(max):\n",
    "    count = 1\n",
    "    while count <= max:\n",
    "        yield count\n",
    "        count += 1\n",
    "counter = count_up_to(5)\n",
    "for num in counter:\n",
    "    print(num)"
   ]
  },
  {
   "cell_type": "markdown",
   "id": "7152db50-35b5-4b76-81b6-61ffe15aa4fc",
   "metadata": {},
   "source": [
    "#### 7. What are the advantages of using generators over regular functions?\n",
    "1. Memory Efficienc\n",
    "2. Lazy Evaluation\n",
    "3. Improved Performance\n",
    "4. Simpler Code for Iteration\n",
    "5. State Preservation\n"
   ]
  },
  {
   "cell_type": "code",
   "execution_count": 29,
   "id": "04dcb274-5baa-49a9-83e9-a4d39509ff0b",
   "metadata": {},
   "outputs": [
    {
     "name": "stdout",
     "output_type": "stream",
     "text": [
      "0\n",
      "2\n",
      "4\n",
      "6\n",
      "8\n"
     ]
    }
   ],
   "source": [
    "def even_numbers(n):\n",
    "    for i in range(n):\n",
    "        if i % 2 == 0:\n",
    "            yield i\n",
    "evens = even_numbers(10)\n",
    "for num in evens:\n",
    "    print(num)            "
   ]
  },
  {
   "cell_type": "markdown",
   "id": "bf2ead1b-caf7-4aad-a748-69e180651517",
   "metadata": {},
   "source": [
    "#### 8. What is a lambda function in Python and when is it typically used?\n",
    "A lambda function is a small, anonymous function defined using the lambda keyword. Unlike regular functions created with def, a lambda function:\n",
    "- has no name\n",
    "- contains only one expression\n",
    "- returns the result of that expression automatically \n"
   ]
  },
  {
   "cell_type": "code",
   "execution_count": 30,
   "id": "5c48ef92-e83b-45ce-af90-f9b3be2a7d39",
   "metadata": {},
   "outputs": [
    {
     "name": "stdout",
     "output_type": "stream",
     "text": [
      "25\n"
     ]
    }
   ],
   "source": [
    "square = lambda x: x * x\n",
    "print(square(5))  "
   ]
  },
  {
   "cell_type": "markdown",
   "id": "2f2b94cc-ab2a-4897-bf3d-b6d1da93e645",
   "metadata": {},
   "source": [
    "####  9. Explain the purpose and usage of the `map()` function in Python.\n",
    "- To transform each element of an iterable using a function.\n",
    "- It returns a map object (an iterator), which can be converted to a list or used in a loop.\n"
   ]
  },
  {
   "cell_type": "code",
   "execution_count": 31,
   "id": "97c9f430-4eed-4189-9fc5-f8ea1f453c82",
   "metadata": {},
   "outputs": [
    {
     "name": "stdout",
     "output_type": "stream",
     "text": [
      "[5, 7, 9]\n"
     ]
    }
   ],
   "source": [
    "a = [1, 2, 3]\n",
    "b = [4, 5, 6]\n",
    "result = list(map(lambda x, y: x + y, a, b))\n",
    "print(result) "
   ]
  },
  {
   "cell_type": "markdown",
   "id": "a020c33a-76d3-454d-bd1f-cc29a518beff",
   "metadata": {},
   "source": [
    "#### 10. What is the difference between `map()`, `reduce()`, and `filter()` functions in Python?\n",
    "\n",
    "##### map()\n",
    "- Applies a given function to each item in an iterable and returns a new iterable with the results.\n",
    "- syntx ->> map(function, iterable)\n",
    "\n",
    "##### filter()\n",
    "- Filters elements from an iterable based on a condition defined in a function. Only items that return True are kept.\n",
    "- syntx ->> filter(function, iterable)\n",
    "\n",
    "\n",
    "##### reduce()\n",
    "- Applies a function cumulatively to the items in an iterable, reducing them to a single value.\n",
    "- syntx ->> from functools import reduce\n",
    "  - reduce(function, iterable)"
   ]
  },
  {
   "cell_type": "code",
   "execution_count": 36,
   "id": "e912064c-2313-4631-9357-a58b4b797162",
   "metadata": {},
   "outputs": [
    {
     "name": "stdout",
     "output_type": "stream",
     "text": [
      "[1, 4, 9, 16]\n",
      "[2, 4]\n",
      "10\n"
     ]
    }
   ],
   "source": [
    "# map()\n",
    "nums = [1, 2, 3, 4]\n",
    "squares = list(map(lambda x: x * x, nums))\n",
    "print(squares)\n",
    "\n",
    "# filter()\n",
    "evens = list(filter(lambda x: x % 2 == 0, nums))\n",
    "print(evens)\n",
    "\n",
    "# reduce()\n",
    "from functools import reduce\n",
    "total = reduce(lambda x, y: x + y, nums)\n",
    "print(total)"
   ]
  },
  {
   "attachments": {},
   "cell_type": "markdown",
   "id": "48ae4b1e-fa68-4665-a635-b4809d2f75b0",
   "metadata": {},
   "source": [
    "#### 11. Using pen & Paper write the internal mechanism for sum operation using  reduce function on this given  list:[47,11,42,13];\n",
    "\n"
   ]
  },
  {
   "attachments": {
    "697e4184-b011-4394-9e21-913dee76a1e9.jpg": {
     "image/jpeg": "[encoded data removed]"
    }
   },
   "cell_type": "markdown",
   "id": "c529fac5-520f-457e-97f0-e8eb481b1155",
   "metadata": {},
   "source": [
    "![122.jpg](attachment:697e4184-b011-4394-9e21-913dee76a1e9.jpg)"
   ]
  },
  {
   "cell_type": "markdown",
   "id": "85f57223-ea13-426b-bcb3-2c5734d56f86",
   "metadata": {},
   "source": [
    "# Practical Questions:"
   ]
  },
  {
   "cell_type": "markdown",
   "id": "e411f666-b300-4ce1-a297-a82bb167896c",
   "metadata": {},
   "source": [
    "####  1. Write a Python function that takes a list of numbers as input and returns the sum of all even numbers in the list."
   ]
  },
  {
   "cell_type": "code",
   "execution_count": 29,
   "id": "c2337450-1667-4051-8a47-f338548c5dc5",
   "metadata": {},
   "outputs": [
    {
     "name": "stdout",
     "output_type": "stream",
     "text": [
      "12\n"
     ]
    }
   ],
   "source": [
    "def sum_even(numbers):\n",
    "      return sum(num for num in numbers if num % 2 == 0)\n",
    "my_list = [1, 2, 3, 4, 5, 6]\n",
    "result = sum_even(my_list)\n",
    "print(result) "
   ]
  },
  {
   "cell_type": "markdown",
   "id": "a5ea1a98-b010-4ae3-a70d-a7ef3cbb671d",
   "metadata": {},
   "source": [
    "####  2. Create a Python function that accepts a string and returns the reverse of that string."
   ]
  },
  {
   "cell_type": "code",
   "execution_count": 36,
   "id": "b76e749d-c02a-477a-a882-202abf2c07b3",
   "metadata": {},
   "outputs": [
    {
     "data": {
      "text/plain": [
       "'yaj nas'"
      ]
     },
     "execution_count": 36,
     "metadata": {},
     "output_type": "execute_result"
    }
   ],
   "source": [
    "def rev(str):\n",
    "    return str[::-1]\n",
    "rev(\"san jay\")"
   ]
  },
  {
   "cell_type": "markdown",
   "id": "1a7e4cf9-9e2a-4e3b-81ce-1ed2a023820b",
   "metadata": {},
   "source": [
    "####  3. Implement a Python function that takes a list of integers and returns a new list containing the squares of  each number."
   ]
  },
  {
   "cell_type": "code",
   "execution_count": 49,
   "id": "e823cf1a-4866-43dc-a6df-65ab55897c05",
   "metadata": {},
   "outputs": [
    {
     "data": {
      "text/plain": [
       "[4, 16, 36, 49, 64]"
      ]
     },
     "execution_count": 49,
     "metadata": {},
     "output_type": "execute_result"
    }
   ],
   "source": [
    "# 1st method\n",
    "list1=[2,4,6,7,8]\n",
    "new_list = list(map(lambda x : x**2,list1))\n",
    "new_list\n"
   ]
  },
  {
   "cell_type": "code",
   "execution_count": 50,
   "id": "1dc754fb-3b18-4deb-b7ef-bc38fd5a9ab6",
   "metadata": {},
   "outputs": [
    {
     "data": {
      "text/plain": [
       "[1, 4, 9, 16, 25]"
      ]
     },
     "execution_count": 50,
     "metadata": {},
     "output_type": "execute_result"
    }
   ],
   "source": [
    "# 2 method \n",
    "def squa(n):\n",
    "    return n**2\n",
    "list2=[1,2,3,4,5]\n",
    "new_list=list(map(lambda x:x**2 , list2))\n",
    "new_list"
   ]
  },
  {
   "cell_type": "markdown",
   "id": "63ff1bdc-f9a7-49ef-a463-63c83f3f0e2d",
   "metadata": {},
   "source": [
    "####  4. Write a Python function that checks if a given number is prime or not from 1 to 200."
   ]
  },
  {
   "cell_type": "code",
   "execution_count": 63,
   "id": "6c8aba52-60a0-48db-8a53-958ea5a5f2df",
   "metadata": {},
   "outputs": [
    {
     "data": {
      "text/plain": [
       "'no is prime'"
      ]
     },
     "execution_count": 63,
     "metadata": {},
     "output_type": "execute_result"
    }
   ],
   "source": [
    "def prime( num):\n",
    "    if num<=1:\n",
    "        return False\n",
    "    else:\n",
    "        for i in range(2,num//2+1):\n",
    "            if num%i==0:\n",
    "                return \"no. is not prime\"\n",
    "        else:\n",
    "            return \"no is prime\"\n",
    "prime(5)"
   ]
  },
  {
   "cell_type": "markdown",
   "id": "c3c74173-413f-4f97-8e30-f0672eed2fd2",
   "metadata": {},
   "source": [
    "##### 5. Create an iterator class in Python that generates the Fibonacci sequence up to a specified number of terms."
   ]
  },
  {
   "cell_type": "code",
   "execution_count": 67,
   "id": "02494e17-9ee7-4c42-9cd3-e9a8396a71af",
   "metadata": {
    "scrolled": true
   },
   "outputs": [
    {
     "name": "stdout",
     "output_type": "stream",
     "text": [
      "1\n",
      "1\n",
      "2\n",
      "3\n",
      "5\n",
      "8\n",
      "13\n",
      "21\n",
      "34\n"
     ]
    }
   ],
   "source": [
    "def fibonacci(n):\n",
    "\t\tif n <= 1: \n",
    "\t\t\treturn n\n",
    "\t\telse:\n",
    "\t\t    return fibonacci(n-1) + fibonacci(n-2)\n",
    "for i in range (1,10):\n",
    "    print(fibonacci(i))"
   ]
  },
  {
   "cell_type": "markdown",
   "id": "4ad658b6-96c6-484a-9106-ebb31e89cdb9",
   "metadata": {},
   "source": [
    "####  6. Write a generator function in Python that yields the powers of 2 up to a given exponent."
   ]
  },
  {
   "cell_type": "code",
   "execution_count": 71,
   "id": "a8465388-e336-48f0-bf2a-f0a6218b7854",
   "metadata": {},
   "outputs": [
    {
     "data": {
      "text/plain": [
       "<generator object powers at 0x000002B8C4644FB0>"
      ]
     },
     "execution_count": 71,
     "metadata": {},
     "output_type": "execute_result"
    }
   ],
   "source": [
    "def powers(exp):\n",
    "    for expo in range(exp + 1):\n",
    "        yield 2 ** expo\n",
    "pow = powers(5)\n",
    "pow"
   ]
  },
  {
   "cell_type": "code",
   "execution_count": 73,
   "id": "9eacaec7-b99f-4c2e-bf20-76fbb0e0afc2",
   "metadata": {},
   "outputs": [
    {
     "data": {
      "text/plain": [
       "1"
      ]
     },
     "execution_count": 73,
     "metadata": {},
     "output_type": "execute_result"
    }
   ],
   "source": [
    "next(pow)"
   ]
  },
  {
   "cell_type": "code",
   "execution_count": 74,
   "id": "672ea5f2-ed1b-4786-9cbc-df3e0e4f4c5d",
   "metadata": {},
   "outputs": [
    {
     "data": {
      "text/plain": [
       "2"
      ]
     },
     "execution_count": 74,
     "metadata": {},
     "output_type": "execute_result"
    }
   ],
   "source": [
    "next(pow)"
   ]
  },
  {
   "cell_type": "code",
   "execution_count": 75,
   "id": "e2acbd56-02b8-4e60-9bb7-2a7242dea3a6",
   "metadata": {},
   "outputs": [
    {
     "data": {
      "text/plain": [
       "4"
      ]
     },
     "execution_count": 75,
     "metadata": {},
     "output_type": "execute_result"
    }
   ],
   "source": [
    "next(pow)"
   ]
  },
  {
   "cell_type": "code",
   "execution_count": 76,
   "id": "69e8bd30-d77b-4174-b555-12727fdbc3f0",
   "metadata": {},
   "outputs": [
    {
     "data": {
      "text/plain": [
       "8"
      ]
     },
     "execution_count": 76,
     "metadata": {},
     "output_type": "execute_result"
    }
   ],
   "source": [
    "next(pow)\n"
   ]
  },
  {
   "cell_type": "code",
   "execution_count": 77,
   "id": "88921933-9c99-4d48-a4c6-7c842104bdb7",
   "metadata": {},
   "outputs": [
    {
     "data": {
      "text/plain": [
       "16"
      ]
     },
     "execution_count": 77,
     "metadata": {},
     "output_type": "execute_result"
    }
   ],
   "source": [
    "next(pow)"
   ]
  },
  {
   "cell_type": "code",
   "execution_count": 78,
   "id": "739ac990-3083-4cdb-92b0-d9e4215c9745",
   "metadata": {},
   "outputs": [
    {
     "data": {
      "text/plain": [
       "32"
      ]
     },
     "execution_count": 78,
     "metadata": {},
     "output_type": "execute_result"
    }
   ],
   "source": [
    "next(pow)"
   ]
  },
  {
   "cell_type": "markdown",
   "id": "97912b3d-c4cb-478c-8d74-261b081f4554",
   "metadata": {},
   "source": [
    "####  7. Implement a generator function that reads a file line by line and yields each line as a string."
   ]
  },
  {
   "cell_type": "markdown",
   "id": "1d2748a6-9201-49bd-9331-ba74ea572c95",
   "metadata": {},
   "source": [
    " - not geeting the answer \n",
    "\n",
    "\n",
    "\n"
   ]
  },
  {
   "cell_type": "markdown",
   "id": "e1ecec70-348d-4cce-9a9a-a641c57e84ce",
   "metadata": {},
   "source": [
    "####  8. Use a lambda function in Python to sort a list of tuples based on the second element of each tuple."
   ]
  },
  {
   "cell_type": "code",
   "execution_count": 83,
   "id": "0b196261-9a08-42d6-b0d5-f66bd15ff385",
   "metadata": {},
   "outputs": [
    {
     "name": "stdout",
     "output_type": "stream",
     "text": [
      "[(5, 0), (4, 1), (2, 2), (1, 3)]\n"
     ]
    }
   ],
   "source": [
    "data = [(1, 3), (4, 1), (2, 2), (5, 0)]\n",
    "sor_data = sorted(data, key=lambda x: x[1])\n",
    "print(sor_data)"
   ]
  },
  {
   "cell_type": "markdown",
   "id": "34843838-336e-49dc-ab8e-c3149cf39e56",
   "metadata": {},
   "source": [
    "####  9. Write a Python program that uses `map()` to convert a list of temperatures from Celsius to Fahrenheit."
   ]
  },
  {
   "cell_type": "code",
   "execution_count": 84,
   "id": "b48598bd-4891-4c1a-8e12-32d9b8f19bd8",
   "metadata": {},
   "outputs": [
    {
     "name": "stdout",
     "output_type": "stream",
     "text": [
      "Fahrenheit temperatures: [32.0, 68.0, 98.6, 212.0]\n"
     ]
    }
   ],
   "source": [
    "# Celsius to Fahrenheit conversion formula: F = C * 9/5 + 32\n",
    "celsius_temps = [0, 20, 37, 100]\n",
    "fahrenheit_temps = list(map(lambda c: c * 9/5 + 32, celsius_temps))\n",
    "print(\"Fahrenheit temperatures:\", fahrenheit_temps)"
   ]
  },
  {
   "cell_type": "markdown",
   "id": "5cca338e-572e-4715-a739-750b1369a001",
   "metadata": {},
   "source": [
    "####  10. Create a Python program that uses `filter()` to remove all the vowels from a given string."
   ]
  },
  {
   "cell_type": "code",
   "execution_count": 85,
   "id": "75259aef-98b7-4a8c-a00b-ade83fc9c3a6",
   "metadata": {},
   "outputs": [
    {
     "name": "stdout",
     "output_type": "stream",
     "text": [
      "['H', 'l', 'l', ',', ' ', 'W', 'r', 'l', 'd', '!']\n"
     ]
    }
   ],
   "source": [
    "def remove_vowels(s):\n",
    "    vowels = 'aeiouAEIOU'\n",
    "    return list(filter(lambda ch: ch not in vowels, s))\n",
    "text = \"Hello, World!\"\n",
    "result = remove_vowels(text)\n",
    "print(result)"
   ]
  },
  {
   "attachments": {
    "3738e7e8-6ded-4235-bf40-dc25bf923c4a.jpg": {
     "image/jpeg": "[encoded data removed]"
    }
   },
   "cell_type": "markdown",
   "id": "cb4b7435-bdd5-4491-a803-a88ca020dcdd",
   "metadata": {},
   "source": [
    "####  11) Imagine an accounting routine used in a book shop. It works on a list with sublists, which look like this:\n",
    " ![WhatsApp Image 2025-10-22 at 23.56.36_81a9b63b.jpg](attachment:3738e7e8-6ded-4235-bf40-dc25bf923c4a.jpg)\n",
    " #### Write a Python program, which returns a list with 2-tuples. Each tuple consists of the order number and the \n",
    "#### product of the price per item and the quantity. The product should be increased by 10,- € if the value of the order is smaller than 100,00 €.\n",
    "####  Write a Python program using lambda and map."
   ]
  },
  {
   "cell_type": "code",
   "execution_count": null,
   "id": "65eb4a02-1db6-4937-9e11-77a2ff017369",
   "metadata": {},
   "outputs": [],
   "source": [
    "orders = [\n",
    "    [34587, \"Learning Python, Mark Lutz\", 4, 40.95],\n",
    "    [98762, \"Programming Python, Mark Lutz\", 5, 56.00],\n",
    "    [77226, \"Head First Python, Paul Barry\", 3, 32.95],\n",
    "    [88112, \"Einführung in Python3, Bernd Klein\", 3, 24.99]\n",
    "]\n",
    "\n",
    "# Use map with a lambda to compute total price and apply surcharge if needed\n",
    "result = list(map(lambda order: (\n",
    "    order[0],\n",
    "    order[2] * order[3] + (10 if order[2] * order[3] < 100 else 0)\n",
    "), orders))\n",
    "\n",
    "print(result)"
   ]
  }
 ],
 "metadata": {
  "kernelspec": {
   "display_name": "Python 3 (ipykernel)",
   "language": "python",
   "name": "python3"
  },
  "language_info": {
   "codemirror_mode": {
    "name": "ipython",
    "version": 3
   },
   "file_extension": ".py",
   "mimetype": "text/x-python",
   "name": "python",
   "nbconvert_exporter": "python",
   "pygments_lexer": "ipython3",
   "version": "3.12.7"
  }
 },
 "nbformat": 4,
 "nbformat_minor": 5
}
